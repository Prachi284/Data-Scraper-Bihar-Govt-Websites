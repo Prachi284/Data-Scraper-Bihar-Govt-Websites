{
 "cells": [
  {
   "cell_type": "code",
   "execution_count": 33,
   "id": "b0b28310",
   "metadata": {},
   "outputs": [
    {
     "name": "stderr",
     "output_type": "stream",
     "text": [
      "C:\\Users\\indir\\AppData\\Local\\Temp\\ipykernel_23416\\2266721002.py:26: FutureWarning: The frame.append method is deprecated and will be removed from pandas in a future version. Use pandas.concat instead.\n",
      "  merged_data = merged_data.append(sheet_data, ignore_index=True)\n",
      "C:\\Users\\indir\\AppData\\Local\\Temp\\ipykernel_23416\\2266721002.py:26: FutureWarning: The frame.append method is deprecated and will be removed from pandas in a future version. Use pandas.concat instead.\n",
      "  merged_data = merged_data.append(sheet_data, ignore_index=True)\n",
      "C:\\Users\\indir\\AppData\\Local\\Temp\\ipykernel_23416\\2266721002.py:26: FutureWarning: The frame.append method is deprecated and will be removed from pandas in a future version. Use pandas.concat instead.\n",
      "  merged_data = merged_data.append(sheet_data, ignore_index=True)\n",
      "C:\\Users\\indir\\AppData\\Local\\Temp\\ipykernel_23416\\2266721002.py:26: FutureWarning: The frame.append method is deprecated and will be removed from pandas in a future version. Use pandas.concat instead.\n",
      "  merged_data = merged_data.append(sheet_data, ignore_index=True)\n",
      "C:\\Users\\indir\\AppData\\Local\\Temp\\ipykernel_23416\\2266721002.py:26: FutureWarning: The frame.append method is deprecated and will be removed from pandas in a future version. Use pandas.concat instead.\n",
      "  merged_data = merged_data.append(sheet_data, ignore_index=True)\n",
      "C:\\Users\\indir\\AppData\\Local\\Temp\\ipykernel_23416\\2266721002.py:26: FutureWarning: The frame.append method is deprecated and will be removed from pandas in a future version. Use pandas.concat instead.\n",
      "  merged_data = merged_data.append(sheet_data, ignore_index=True)\n",
      "C:\\Users\\indir\\AppData\\Local\\Temp\\ipykernel_23416\\2266721002.py:26: FutureWarning: The frame.append method is deprecated and will be removed from pandas in a future version. Use pandas.concat instead.\n",
      "  merged_data = merged_data.append(sheet_data, ignore_index=True)\n",
      "C:\\Users\\indir\\AppData\\Local\\Temp\\ipykernel_23416\\2266721002.py:26: FutureWarning: The frame.append method is deprecated and will be removed from pandas in a future version. Use pandas.concat instead.\n",
      "  merged_data = merged_data.append(sheet_data, ignore_index=True)\n",
      "C:\\Users\\indir\\AppData\\Local\\Temp\\ipykernel_23416\\2266721002.py:26: FutureWarning: The frame.append method is deprecated and will be removed from pandas in a future version. Use pandas.concat instead.\n",
      "  merged_data = merged_data.append(sheet_data, ignore_index=True)\n",
      "C:\\Users\\indir\\AppData\\Local\\Temp\\ipykernel_23416\\2266721002.py:26: FutureWarning: The frame.append method is deprecated and will be removed from pandas in a future version. Use pandas.concat instead.\n",
      "  merged_data = merged_data.append(sheet_data, ignore_index=True)\n",
      "C:\\Users\\indir\\AppData\\Local\\Temp\\ipykernel_23416\\2266721002.py:26: FutureWarning: The frame.append method is deprecated and will be removed from pandas in a future version. Use pandas.concat instead.\n",
      "  merged_data = merged_data.append(sheet_data, ignore_index=True)\n",
      "C:\\Users\\indir\\AppData\\Local\\Temp\\ipykernel_23416\\2266721002.py:26: FutureWarning: The frame.append method is deprecated and will be removed from pandas in a future version. Use pandas.concat instead.\n",
      "  merged_data = merged_data.append(sheet_data, ignore_index=True)\n",
      "C:\\Users\\indir\\AppData\\Local\\Temp\\ipykernel_23416\\2266721002.py:26: FutureWarning: The frame.append method is deprecated and will be removed from pandas in a future version. Use pandas.concat instead.\n",
      "  merged_data = merged_data.append(sheet_data, ignore_index=True)\n",
      "C:\\Users\\indir\\AppData\\Local\\Temp\\ipykernel_23416\\2266721002.py:26: FutureWarning: The frame.append method is deprecated and will be removed from pandas in a future version. Use pandas.concat instead.\n",
      "  merged_data = merged_data.append(sheet_data, ignore_index=True)\n",
      "C:\\Users\\indir\\AppData\\Local\\Temp\\ipykernel_23416\\2266721002.py:26: FutureWarning: The frame.append method is deprecated and will be removed from pandas in a future version. Use pandas.concat instead.\n",
      "  merged_data = merged_data.append(sheet_data, ignore_index=True)\n",
      "C:\\Users\\indir\\AppData\\Local\\Temp\\ipykernel_23416\\2266721002.py:26: FutureWarning: The frame.append method is deprecated and will be removed from pandas in a future version. Use pandas.concat instead.\n",
      "  merged_data = merged_data.append(sheet_data, ignore_index=True)\n",
      "C:\\Users\\indir\\AppData\\Local\\Temp\\ipykernel_23416\\2266721002.py:26: FutureWarning: The frame.append method is deprecated and will be removed from pandas in a future version. Use pandas.concat instead.\n",
      "  merged_data = merged_data.append(sheet_data, ignore_index=True)\n",
      "C:\\Users\\indir\\AppData\\Local\\Temp\\ipykernel_23416\\2266721002.py:26: FutureWarning: The frame.append method is deprecated and will be removed from pandas in a future version. Use pandas.concat instead.\n",
      "  merged_data = merged_data.append(sheet_data, ignore_index=True)\n",
      "C:\\Users\\indir\\AppData\\Local\\Temp\\ipykernel_23416\\2266721002.py:26: FutureWarning: The frame.append method is deprecated and will be removed from pandas in a future version. Use pandas.concat instead.\n",
      "  merged_data = merged_data.append(sheet_data, ignore_index=True)\n"
     ]
    }
   ],
   "source": [
    "#Instead of running a loop, I did it for each treatment district manually (since they were only 10), this code\n",
    "#will basically merge all the blocks of a district in a single sheet, after running this code for \n",
    "#each of the 10 districts, you'll get one excel file which will contain 10 sheets (one for each district)\n",
    "\n",
    "import pandas as pd\n",
    "\n",
    "excel_file_path = r\"C:\\Users\\indir\\OneDrive\\Desktop\\Bihar Politician Networks\\Procurements\\Procurements[2023-24]\\Treatment Group\\SARAN_procurements_data.xlsx\"\n",
    "all_sheets = pd.read_excel(excel_file_path, sheet_name=None)\n",
    "\n",
    "# Initialize an empty DataFrame to store the merged data\n",
    "merged_data = pd.DataFrame()\n",
    "\n",
    "# Specify the common district name for all entries\n",
    "district_name = 'SARAN'\n",
    "\n",
    "# Iterate through each sheet and merge into the combined DataFrame\n",
    "for block_name, sheet_data in all_sheets.items():\n",
    "    # Remove the 'S.No' column if it exists\n",
    "    if 'S.No' in sheet_data.columns:\n",
    "        sheet_data = sheet_data.drop(columns=['SL. No.'])\n",
    "    \n",
    "    # Add columns for district and block names at the beginning\n",
    "    sheet_data.insert(0, 'Block', block_name)\n",
    "    sheet_data.insert(0, 'District', district_name)\n",
    "    \n",
    "    # Append the modified sheet data to the merged_data DataFrame\n",
    "    merged_data = merged_data.append(sheet_data, ignore_index=True)\n",
    "\n",
    "# Save the merged data to a new Excel file or do further processing as needed\n",
    "#merged_data.to_excel(r\"C:\\Users\\indir\\OneDrive\\Desktop\\Bihar Politician Networks\\Procurements\\Procurements[2022-23]\\Treatment group\\MERGED.xlsx\", index=False,sheet_name='district_name')\n",
    "with pd.ExcelWriter(r\"C:\\Users\\indir\\OneDrive\\Desktop\\Bihar Politician Networks\\Procurements\\Procurements[2023-24]\\Treatment Group\\mergedd.xlsx\", engine='openpyxl', mode='a') as writer:\n",
    "        merged_data.to_excel(writer, index=False, sheet_name='SARAN')"
   ]
  },
  {
   "cell_type": "code",
   "execution_count": 34,
   "id": "1ca50d6b",
   "metadata": {},
   "outputs": [
    {
     "name": "stderr",
     "output_type": "stream",
     "text": [
      "C:\\Users\\indir\\AppData\\Local\\Temp\\ipykernel_23416\\171043455.py:20: FutureWarning: The frame.append method is deprecated and will be removed from pandas in a future version. Use pandas.concat instead.\n",
      "  merged_data = merged_data.append(sheet_data, ignore_index=True)\n"
     ]
    }
   ],
   "source": [
    "#now finally to merge those 10 sheets into 1 single sheet, I used this code\n",
    "\n",
    "excel_file_path = r\"C:\\Users\\indir\\OneDrive\\Desktop\\Bihar Politician Networks\\Procurements\\Procurements[2023-24]\\Treatment Group\\mergedd.xlsx\"\n",
    "all_sheets = pd.read_excel(excel_file_path, sheet_name=None)\n",
    "merged_data = pd.DataFrame()\n",
    "\n",
    "# Specify the common district name for all entries\n",
    "#district_name = 'YourDistrictName'\n",
    "\n",
    "# Iterate through each sheet and merge into the combined DataFrame\n",
    "for block_name, sheet_data in all_sheets.items():\n",
    "    # Remove the 'S.No' column if it exists\n",
    "    \n",
    "    # Append the modified sheet data to the merged_data DataFrame\n",
    "    merged_data = merged_data.append(sheet_data, ignore_index=True)\n",
    "\n",
    "# Save the merged data to a new Excel file or do further processing as needed\n",
    "merged_data.to_excel(r\"C:\\Users\\indir\\OneDrive\\Desktop\\Bihar Politician Networks\\Procurements\\Procurements[2023-24]\\Treatment Group\\Procurements_merged2324.xlsx\", index=False)\n"
   ]
  },
  {
   "cell_type": "code",
   "execution_count": null,
   "id": "85c33ea3",
   "metadata": {},
   "outputs": [],
   "source": []
  }
 ],
 "metadata": {
  "kernelspec": {
   "display_name": "Python 3 (ipykernel)",
   "language": "python",
   "name": "python3"
  },
  "language_info": {
   "codemirror_mode": {
    "name": "ipython",
    "version": 3
   },
   "file_extension": ".py",
   "mimetype": "text/x-python",
   "name": "python",
   "nbconvert_exporter": "python",
   "pygments_lexer": "ipython3",
   "version": "3.10.9"
  }
 },
 "nbformat": 4,
 "nbformat_minor": 5
}
